{
 "cells": [
  {
   "cell_type": "code",
   "execution_count": 4,
   "id": "5a35e6e2-c9e3-4a3d-8fb5-bf2a353d3236",
   "metadata": {},
   "outputs": [
    {
     "name": "stderr",
     "output_type": "stream",
     "text": [
      "Updating HTML index of packages in '.Library'\n",
      "\n",
      "Making 'packages.html' ...\n",
      " done\n",
      "\n",
      "Updating HTML index of packages in '.Library'\n",
      "\n",
      "Making 'packages.html' ...\n",
      " done\n",
      "\n",
      "Updating HTML index of packages in '.Library'\n",
      "\n",
      "Making 'packages.html' ...\n",
      " done\n",
      "\n",
      "Updating HTML index of packages in '.Library'\n",
      "\n",
      "Making 'packages.html' ...\n",
      " done\n",
      "\n",
      "Updating HTML index of packages in '.Library'\n",
      "\n",
      "Making 'packages.html' ...\n",
      " done\n",
      "\n",
      "Updating HTML index of packages in '.Library'\n",
      "\n",
      "Making 'packages.html' ...\n",
      " done\n",
      "\n",
      "Updating HTML index of packages in '.Library'\n",
      "\n",
      "Making 'packages.html' ...\n",
      " done\n",
      "\n",
      "Updating HTML index of packages in '.Library'\n",
      "\n",
      "Making 'packages.html' ...\n",
      " done\n",
      "\n",
      "Updating HTML index of packages in '.Library'\n",
      "\n",
      "Making 'packages.html' ...\n",
      " done\n",
      "\n"
     ]
    }
   ],
   "source": [
    "install.packages(\"repr\")\n",
    "install.packages(\"digest\")\n",
    "install.packages(\"infer\")\n",
    "install.packages(\"gridExtra\")\n",
    "install.packages(\"faraway\")\n",
    "install.packages(\"broom\")\n",
    "install.packages(\"leaps\")\n",
    "install.packages(\"mltools\")\n",
    "install.packages(\"tidyverse\")"
   ]
  },
  {
   "cell_type": "code",
   "execution_count": 5,
   "id": "eae98196-9c24-4e17-bfd4-8eeb038812c9",
   "metadata": {},
   "outputs": [
    {
     "name": "stderr",
     "output_type": "stream",
     "text": [
      "\n",
      "Attaching package: ‘gridExtra’\n",
      "\n",
      "\n",
      "The following object is masked from ‘package:dplyr’:\n",
      "\n",
      "    combine\n",
      "\n",
      "\n",
      "\n",
      "Attaching package: ‘mltools’\n",
      "\n",
      "\n",
      "The following object is masked from ‘package:tidyr’:\n",
      "\n",
      "    replace_na\n",
      "\n",
      "\n"
     ]
    }
   ],
   "source": [
    "library(repr)\n",
    "library(digest)\n",
    "library(infer)\n",
    "library(gridExtra)\n",
    "library(faraway)\n",
    "library(broom)\n",
    "library(leaps)\n",
    "library(mltools)\n",
    "library(tidyverse)"
   ]
  },
  {
   "cell_type": "code",
   "execution_count": 38,
   "id": "1847aafa-edf4-42e0-82db-0ca77246535c",
   "metadata": {},
   "outputs": [
    {
     "name": "stderr",
     "output_type": "stream",
     "text": [
      "\u001b[1mRows: \u001b[22m\u001b[34m1470\u001b[39m \u001b[1mColumns: \u001b[22m\u001b[34m35\u001b[39m\n",
      "\u001b[36m──\u001b[39m \u001b[1mColumn specification\u001b[22m \u001b[36m────────────────────────────────────────────────────────\u001b[39m\n",
      "\u001b[1mDelimiter:\u001b[22m \",\"\n",
      "\u001b[31mchr\u001b[39m  (9): Attrition, BusinessTravel, Department, EducationField, Gender, Job...\n",
      "\u001b[32mdbl\u001b[39m (26): Age, DailyRate, DistanceFromHome, Education, EmployeeCount, Employ...\n",
      "\n",
      "\u001b[36mℹ\u001b[39m Use `spec()` to retrieve the full column specification for this data.\n",
      "\u001b[36mℹ\u001b[39m Specify the column types or set `show_col_types = FALSE` to quiet this message.\n"
     ]
    },
    {
     "data": {
      "text/html": [
       "<table class=\"dataframe\">\n",
       "<caption>A tibble: 6 × 33</caption>\n",
       "<thead>\n",
       "\t<tr><th scope=col>Age</th><th scope=col>Attrition</th><th scope=col>BusinessTravel</th><th scope=col>DailyRate</th><th scope=col>Department</th><th scope=col>DistanceFromHome</th><th scope=col>Education</th><th scope=col>EducationField</th><th scope=col>EmployeeNumber</th><th scope=col>EnvironmentSatisfaction</th><th scope=col>⋯</th><th scope=col>RelationshipSatisfaction</th><th scope=col>StandardHours</th><th scope=col>StockOptionLevel</th><th scope=col>TotalWorkingYears</th><th scope=col>TrainingTimesLastYear</th><th scope=col>WorkLifeBalance</th><th scope=col>YearsAtCompany</th><th scope=col>YearsInCurrentRole</th><th scope=col>YearsSinceLastPromotion</th><th scope=col>YearsWithCurrManager</th></tr>\n",
       "\t<tr><th scope=col>&lt;dbl&gt;</th><th scope=col>&lt;fct&gt;</th><th scope=col>&lt;fct&gt;</th><th scope=col>&lt;dbl&gt;</th><th scope=col>&lt;fct&gt;</th><th scope=col>&lt;dbl&gt;</th><th scope=col>&lt;dbl&gt;</th><th scope=col>&lt;fct&gt;</th><th scope=col>&lt;dbl&gt;</th><th scope=col>&lt;dbl&gt;</th><th scope=col>⋯</th><th scope=col>&lt;dbl&gt;</th><th scope=col>&lt;dbl&gt;</th><th scope=col>&lt;dbl&gt;</th><th scope=col>&lt;dbl&gt;</th><th scope=col>&lt;dbl&gt;</th><th scope=col>&lt;dbl&gt;</th><th scope=col>&lt;dbl&gt;</th><th scope=col>&lt;dbl&gt;</th><th scope=col>&lt;dbl&gt;</th><th scope=col>&lt;dbl&gt;</th></tr>\n",
       "</thead>\n",
       "<tbody>\n",
       "\t<tr><td>41</td><td>Yes</td><td>Travel_Rarely    </td><td>1102</td><td>Sales                 </td><td>1</td><td>2</td><td>Life Sciences</td><td>1</td><td>2</td><td>⋯</td><td>1</td><td>80</td><td>0</td><td> 8</td><td>0</td><td>1</td><td> 6</td><td>4</td><td>0</td><td>5</td></tr>\n",
       "\t<tr><td>49</td><td>No </td><td>Travel_Frequently</td><td> 279</td><td>Research &amp; Development</td><td>8</td><td>1</td><td>Life Sciences</td><td>2</td><td>3</td><td>⋯</td><td>4</td><td>80</td><td>1</td><td>10</td><td>3</td><td>3</td><td>10</td><td>7</td><td>1</td><td>7</td></tr>\n",
       "\t<tr><td>37</td><td>Yes</td><td><span style=white-space:pre-wrap>Travel_Rarely    </span></td><td>1373</td><td>Research &amp; Development</td><td>2</td><td>2</td><td><span style=white-space:pre-wrap>Other        </span></td><td>4</td><td>4</td><td>⋯</td><td>2</td><td>80</td><td>0</td><td> 7</td><td>3</td><td>3</td><td> 0</td><td>0</td><td>0</td><td>0</td></tr>\n",
       "\t<tr><td>33</td><td>No </td><td>Travel_Frequently</td><td>1392</td><td>Research &amp; Development</td><td>3</td><td>4</td><td>Life Sciences</td><td>5</td><td>4</td><td>⋯</td><td>3</td><td>80</td><td>0</td><td> 8</td><td>3</td><td>3</td><td> 8</td><td>7</td><td>3</td><td>0</td></tr>\n",
       "\t<tr><td>27</td><td>No </td><td><span style=white-space:pre-wrap>Travel_Rarely    </span></td><td> 591</td><td>Research &amp; Development</td><td>2</td><td>1</td><td><span style=white-space:pre-wrap>Medical      </span></td><td>7</td><td>1</td><td>⋯</td><td>4</td><td>80</td><td>1</td><td> 6</td><td>3</td><td>3</td><td> 2</td><td>2</td><td>2</td><td>2</td></tr>\n",
       "\t<tr><td>32</td><td>No </td><td>Travel_Frequently</td><td>1005</td><td>Research &amp; Development</td><td>2</td><td>2</td><td>Life Sciences</td><td>8</td><td>4</td><td>⋯</td><td>3</td><td>80</td><td>0</td><td> 8</td><td>2</td><td>2</td><td> 7</td><td>7</td><td>3</td><td>6</td></tr>\n",
       "</tbody>\n",
       "</table>\n"
      ],
      "text/latex": [
       "A tibble: 6 × 33\n",
       "\\begin{tabular}{lllllllllllllllllllll}\n",
       " Age & Attrition & BusinessTravel & DailyRate & Department & DistanceFromHome & Education & EducationField & EmployeeNumber & EnvironmentSatisfaction & ⋯ & RelationshipSatisfaction & StandardHours & StockOptionLevel & TotalWorkingYears & TrainingTimesLastYear & WorkLifeBalance & YearsAtCompany & YearsInCurrentRole & YearsSinceLastPromotion & YearsWithCurrManager\\\\\n",
       " <dbl> & <fct> & <fct> & <dbl> & <fct> & <dbl> & <dbl> & <fct> & <dbl> & <dbl> & ⋯ & <dbl> & <dbl> & <dbl> & <dbl> & <dbl> & <dbl> & <dbl> & <dbl> & <dbl> & <dbl>\\\\\n",
       "\\hline\n",
       "\t 41 & Yes & Travel\\_Rarely     & 1102 & Sales                  & 1 & 2 & Life Sciences & 1 & 2 & ⋯ & 1 & 80 & 0 &  8 & 0 & 1 &  6 & 4 & 0 & 5\\\\\n",
       "\t 49 & No  & Travel\\_Frequently &  279 & Research \\& Development & 8 & 1 & Life Sciences & 2 & 3 & ⋯ & 4 & 80 & 1 & 10 & 3 & 3 & 10 & 7 & 1 & 7\\\\\n",
       "\t 37 & Yes & Travel\\_Rarely     & 1373 & Research \\& Development & 2 & 2 & Other         & 4 & 4 & ⋯ & 2 & 80 & 0 &  7 & 3 & 3 &  0 & 0 & 0 & 0\\\\\n",
       "\t 33 & No  & Travel\\_Frequently & 1392 & Research \\& Development & 3 & 4 & Life Sciences & 5 & 4 & ⋯ & 3 & 80 & 0 &  8 & 3 & 3 &  8 & 7 & 3 & 0\\\\\n",
       "\t 27 & No  & Travel\\_Rarely     &  591 & Research \\& Development & 2 & 1 & Medical       & 7 & 1 & ⋯ & 4 & 80 & 1 &  6 & 3 & 3 &  2 & 2 & 2 & 2\\\\\n",
       "\t 32 & No  & Travel\\_Frequently & 1005 & Research \\& Development & 2 & 2 & Life Sciences & 8 & 4 & ⋯ & 3 & 80 & 0 &  8 & 2 & 2 &  7 & 7 & 3 & 6\\\\\n",
       "\\end{tabular}\n"
      ],
      "text/markdown": [
       "\n",
       "A tibble: 6 × 33\n",
       "\n",
       "| Age &lt;dbl&gt; | Attrition &lt;fct&gt; | BusinessTravel &lt;fct&gt; | DailyRate &lt;dbl&gt; | Department &lt;fct&gt; | DistanceFromHome &lt;dbl&gt; | Education &lt;dbl&gt; | EducationField &lt;fct&gt; | EmployeeNumber &lt;dbl&gt; | EnvironmentSatisfaction &lt;dbl&gt; | ⋯ ⋯ | RelationshipSatisfaction &lt;dbl&gt; | StandardHours &lt;dbl&gt; | StockOptionLevel &lt;dbl&gt; | TotalWorkingYears &lt;dbl&gt; | TrainingTimesLastYear &lt;dbl&gt; | WorkLifeBalance &lt;dbl&gt; | YearsAtCompany &lt;dbl&gt; | YearsInCurrentRole &lt;dbl&gt; | YearsSinceLastPromotion &lt;dbl&gt; | YearsWithCurrManager &lt;dbl&gt; |\n",
       "|---|---|---|---|---|---|---|---|---|---|---|---|---|---|---|---|---|---|---|---|---|\n",
       "| 41 | Yes | Travel_Rarely     | 1102 | Sales                  | 1 | 2 | Life Sciences | 1 | 2 | ⋯ | 1 | 80 | 0 |  8 | 0 | 1 |  6 | 4 | 0 | 5 |\n",
       "| 49 | No  | Travel_Frequently |  279 | Research &amp; Development | 8 | 1 | Life Sciences | 2 | 3 | ⋯ | 4 | 80 | 1 | 10 | 3 | 3 | 10 | 7 | 1 | 7 |\n",
       "| 37 | Yes | Travel_Rarely     | 1373 | Research &amp; Development | 2 | 2 | Other         | 4 | 4 | ⋯ | 2 | 80 | 0 |  7 | 3 | 3 |  0 | 0 | 0 | 0 |\n",
       "| 33 | No  | Travel_Frequently | 1392 | Research &amp; Development | 3 | 4 | Life Sciences | 5 | 4 | ⋯ | 3 | 80 | 0 |  8 | 3 | 3 |  8 | 7 | 3 | 0 |\n",
       "| 27 | No  | Travel_Rarely     |  591 | Research &amp; Development | 2 | 1 | Medical       | 7 | 1 | ⋯ | 4 | 80 | 1 |  6 | 3 | 3 |  2 | 2 | 2 | 2 |\n",
       "| 32 | No  | Travel_Frequently | 1005 | Research &amp; Development | 2 | 2 | Life Sciences | 8 | 4 | ⋯ | 3 | 80 | 0 |  8 | 2 | 2 |  7 | 7 | 3 | 6 |\n",
       "\n"
      ],
      "text/plain": [
       "  Age Attrition BusinessTravel    DailyRate Department            \n",
       "1 41  Yes       Travel_Rarely     1102      Sales                 \n",
       "2 49  No        Travel_Frequently  279      Research & Development\n",
       "3 37  Yes       Travel_Rarely     1373      Research & Development\n",
       "4 33  No        Travel_Frequently 1392      Research & Development\n",
       "5 27  No        Travel_Rarely      591      Research & Development\n",
       "6 32  No        Travel_Frequently 1005      Research & Development\n",
       "  DistanceFromHome Education EducationField EmployeeNumber\n",
       "1 1                2         Life Sciences  1             \n",
       "2 8                1         Life Sciences  2             \n",
       "3 2                2         Other          4             \n",
       "4 3                4         Life Sciences  5             \n",
       "5 2                1         Medical        7             \n",
       "6 2                2         Life Sciences  8             \n",
       "  EnvironmentSatisfaction ⋯ RelationshipSatisfaction StandardHours\n",
       "1 2                       ⋯ 1                        80           \n",
       "2 3                       ⋯ 4                        80           \n",
       "3 4                       ⋯ 2                        80           \n",
       "4 4                       ⋯ 3                        80           \n",
       "5 1                       ⋯ 4                        80           \n",
       "6 4                       ⋯ 3                        80           \n",
       "  StockOptionLevel TotalWorkingYears TrainingTimesLastYear WorkLifeBalance\n",
       "1 0                 8                0                     1              \n",
       "2 1                10                3                     3              \n",
       "3 0                 7                3                     3              \n",
       "4 0                 8                3                     3              \n",
       "5 1                 6                3                     3              \n",
       "6 0                 8                2                     2              \n",
       "  YearsAtCompany YearsInCurrentRole YearsSinceLastPromotion\n",
       "1  6             4                  0                      \n",
       "2 10             7                  1                      \n",
       "3  0             0                  0                      \n",
       "4  8             7                  3                      \n",
       "5  2             2                  2                      \n",
       "6  7             7                  3                      \n",
       "  YearsWithCurrManager\n",
       "1 5                   \n",
       "2 7                   \n",
       "3 0                   \n",
       "4 0                   \n",
       "5 2                   \n",
       "6 6                   "
      ]
     },
     "metadata": {},
     "output_type": "display_data"
    }
   ],
   "source": [
    "hr_data <-read_csv(\"https://raw.githubusercontent.com/Divi76h/Stat301-Group-19/refs/heads/main/data/HR-Employee-Attrition.csv\")|>\n",
    "mutate(Attrition = as_factor(Attrition))|>\n",
    "mutate(BusinessTravel = as_factor(BusinessTravel))|>\n",
    "mutate(Department = as_factor(Department))|>\n",
    "mutate(EducationField = as_factor(EducationField))|>\n",
    "mutate(Gender = as_factor(Gender))|>\n",
    "mutate(JobRole = as_factor(JobRole))|>\n",
    "mutate(MaritalStatus = as_factor(MaritalStatus))|>\n",
    "select(-Over18,-EmployeeCount)|>\n",
    "mutate(OverTime = as_factor(OverTime))\n",
    "\n",
    "\n",
    "head(hr_data,6)"
   ]
  },
  {
   "cell_type": "code",
   "execution_count": 39,
   "id": "1ea5caf7-d16d-493d-9d99-e14cab31d4cc",
   "metadata": {},
   "outputs": [
    {
     "data": {
      "text/html": [
       "<table class=\"dataframe\">\n",
       "<caption>A tibble: 6 × 32</caption>\n",
       "<thead>\n",
       "\t<tr><th scope=col>Age</th><th scope=col>Attrition</th><th scope=col>BusinessTravel</th><th scope=col>DailyRate</th><th scope=col>Department</th><th scope=col>DistanceFromHome</th><th scope=col>Education</th><th scope=col>EducationField</th><th scope=col>EnvironmentSatisfaction</th><th scope=col>Gender</th><th scope=col>⋯</th><th scope=col>RelationshipSatisfaction</th><th scope=col>StandardHours</th><th scope=col>StockOptionLevel</th><th scope=col>TotalWorkingYears</th><th scope=col>TrainingTimesLastYear</th><th scope=col>WorkLifeBalance</th><th scope=col>YearsAtCompany</th><th scope=col>YearsInCurrentRole</th><th scope=col>YearsSinceLastPromotion</th><th scope=col>YearsWithCurrManager</th></tr>\n",
       "\t<tr><th scope=col>&lt;dbl&gt;</th><th scope=col>&lt;fct&gt;</th><th scope=col>&lt;fct&gt;</th><th scope=col>&lt;dbl&gt;</th><th scope=col>&lt;fct&gt;</th><th scope=col>&lt;dbl&gt;</th><th scope=col>&lt;dbl&gt;</th><th scope=col>&lt;fct&gt;</th><th scope=col>&lt;dbl&gt;</th><th scope=col>&lt;fct&gt;</th><th scope=col>⋯</th><th scope=col>&lt;dbl&gt;</th><th scope=col>&lt;dbl&gt;</th><th scope=col>&lt;dbl&gt;</th><th scope=col>&lt;dbl&gt;</th><th scope=col>&lt;dbl&gt;</th><th scope=col>&lt;dbl&gt;</th><th scope=col>&lt;dbl&gt;</th><th scope=col>&lt;dbl&gt;</th><th scope=col>&lt;dbl&gt;</th><th scope=col>&lt;dbl&gt;</th></tr>\n",
       "</thead>\n",
       "<tbody>\n",
       "\t<tr><td>22</td><td>No</td><td><span style=white-space:pre-wrap>Travel_Rarely    </span></td><td> 581</td><td>Research &amp; Development</td><td> 1</td><td>2</td><td><span style=white-space:pre-wrap>Life Sciences  </span></td><td>4</td><td><span style=white-space:pre-wrap>Male  </span></td><td>⋯</td><td>4</td><td>80</td><td>0</td><td> 4</td><td>2</td><td>4</td><td> 3</td><td>2</td><td>1</td><td>2</td></tr>\n",
       "\t<tr><td>38</td><td>No</td><td><span style=white-space:pre-wrap>Travel_Rarely    </span></td><td>1380</td><td>Research &amp; Development</td><td> 9</td><td>2</td><td><span style=white-space:pre-wrap>Life Sciences  </span></td><td>3</td><td>Female</td><td>⋯</td><td>3</td><td>80</td><td>0</td><td> 2</td><td>3</td><td>3</td><td> 2</td><td>2</td><td>2</td><td>1</td></tr>\n",
       "\t<tr><td>30</td><td>No</td><td><span style=white-space:pre-wrap>Travel_Rarely    </span></td><td>1275</td><td>Research &amp; Development</td><td>28</td><td>2</td><td><span style=white-space:pre-wrap>Medical        </span></td><td>4</td><td>Female</td><td>⋯</td><td>4</td><td>80</td><td>2</td><td>11</td><td>2</td><td>3</td><td>10</td><td>8</td><td>1</td><td>9</td></tr>\n",
       "\t<tr><td>25</td><td>No</td><td>Travel_Frequently</td><td> 772</td><td>Research &amp; Development</td><td> 2</td><td>1</td><td><span style=white-space:pre-wrap>Life Sciences  </span></td><td>4</td><td><span style=white-space:pre-wrap>Male  </span></td><td>⋯</td><td>3</td><td>80</td><td>2</td><td> 7</td><td>6</td><td>3</td><td> 7</td><td>7</td><td>0</td><td>7</td></tr>\n",
       "\t<tr><td>54</td><td>No</td><td><span style=white-space:pre-wrap>Travel_Rarely    </span></td><td> 548</td><td>Research &amp; Development</td><td> 8</td><td>4</td><td><span style=white-space:pre-wrap>Life Sciences  </span></td><td>3</td><td>Female</td><td>⋯</td><td>3</td><td>80</td><td>0</td><td>19</td><td>3</td><td>3</td><td> 1</td><td>0</td><td>0</td><td>0</td></tr>\n",
       "\t<tr><td>59</td><td>No</td><td>Non-Travel       </td><td>1420</td><td>Human Resources       </td><td> 2</td><td>4</td><td>Human Resources</td><td>3</td><td>Female</td><td>⋯</td><td>4</td><td>80</td><td>1</td><td>30</td><td>3</td><td>3</td><td> 3</td><td>2</td><td>2</td><td>2</td></tr>\n",
       "</tbody>\n",
       "</table>\n"
      ],
      "text/latex": [
       "A tibble: 6 × 32\n",
       "\\begin{tabular}{lllllllllllllllllllll}\n",
       " Age & Attrition & BusinessTravel & DailyRate & Department & DistanceFromHome & Education & EducationField & EnvironmentSatisfaction & Gender & ⋯ & RelationshipSatisfaction & StandardHours & StockOptionLevel & TotalWorkingYears & TrainingTimesLastYear & WorkLifeBalance & YearsAtCompany & YearsInCurrentRole & YearsSinceLastPromotion & YearsWithCurrManager\\\\\n",
       " <dbl> & <fct> & <fct> & <dbl> & <fct> & <dbl> & <dbl> & <fct> & <dbl> & <fct> & ⋯ & <dbl> & <dbl> & <dbl> & <dbl> & <dbl> & <dbl> & <dbl> & <dbl> & <dbl> & <dbl>\\\\\n",
       "\\hline\n",
       "\t 22 & No & Travel\\_Rarely     &  581 & Research \\& Development &  1 & 2 & Life Sciences   & 4 & Male   & ⋯ & 4 & 80 & 0 &  4 & 2 & 4 &  3 & 2 & 1 & 2\\\\\n",
       "\t 38 & No & Travel\\_Rarely     & 1380 & Research \\& Development &  9 & 2 & Life Sciences   & 3 & Female & ⋯ & 3 & 80 & 0 &  2 & 3 & 3 &  2 & 2 & 2 & 1\\\\\n",
       "\t 30 & No & Travel\\_Rarely     & 1275 & Research \\& Development & 28 & 2 & Medical         & 4 & Female & ⋯ & 4 & 80 & 2 & 11 & 2 & 3 & 10 & 8 & 1 & 9\\\\\n",
       "\t 25 & No & Travel\\_Frequently &  772 & Research \\& Development &  2 & 1 & Life Sciences   & 4 & Male   & ⋯ & 3 & 80 & 2 &  7 & 6 & 3 &  7 & 7 & 0 & 7\\\\\n",
       "\t 54 & No & Travel\\_Rarely     &  548 & Research \\& Development &  8 & 4 & Life Sciences   & 3 & Female & ⋯ & 3 & 80 & 0 & 19 & 3 & 3 &  1 & 0 & 0 & 0\\\\\n",
       "\t 59 & No & Non-Travel        & 1420 & Human Resources        &  2 & 4 & Human Resources & 3 & Female & ⋯ & 4 & 80 & 1 & 30 & 3 & 3 &  3 & 2 & 2 & 2\\\\\n",
       "\\end{tabular}\n"
      ],
      "text/markdown": [
       "\n",
       "A tibble: 6 × 32\n",
       "\n",
       "| Age &lt;dbl&gt; | Attrition &lt;fct&gt; | BusinessTravel &lt;fct&gt; | DailyRate &lt;dbl&gt; | Department &lt;fct&gt; | DistanceFromHome &lt;dbl&gt; | Education &lt;dbl&gt; | EducationField &lt;fct&gt; | EnvironmentSatisfaction &lt;dbl&gt; | Gender &lt;fct&gt; | ⋯ ⋯ | RelationshipSatisfaction &lt;dbl&gt; | StandardHours &lt;dbl&gt; | StockOptionLevel &lt;dbl&gt; | TotalWorkingYears &lt;dbl&gt; | TrainingTimesLastYear &lt;dbl&gt; | WorkLifeBalance &lt;dbl&gt; | YearsAtCompany &lt;dbl&gt; | YearsInCurrentRole &lt;dbl&gt; | YearsSinceLastPromotion &lt;dbl&gt; | YearsWithCurrManager &lt;dbl&gt; |\n",
       "|---|---|---|---|---|---|---|---|---|---|---|---|---|---|---|---|---|---|---|---|---|\n",
       "| 22 | No | Travel_Rarely     |  581 | Research &amp; Development |  1 | 2 | Life Sciences   | 4 | Male   | ⋯ | 4 | 80 | 0 |  4 | 2 | 4 |  3 | 2 | 1 | 2 |\n",
       "| 38 | No | Travel_Rarely     | 1380 | Research &amp; Development |  9 | 2 | Life Sciences   | 3 | Female | ⋯ | 3 | 80 | 0 |  2 | 3 | 3 |  2 | 2 | 2 | 1 |\n",
       "| 30 | No | Travel_Rarely     | 1275 | Research &amp; Development | 28 | 2 | Medical         | 4 | Female | ⋯ | 4 | 80 | 2 | 11 | 2 | 3 | 10 | 8 | 1 | 9 |\n",
       "| 25 | No | Travel_Frequently |  772 | Research &amp; Development |  2 | 1 | Life Sciences   | 4 | Male   | ⋯ | 3 | 80 | 2 |  7 | 6 | 3 |  7 | 7 | 0 | 7 |\n",
       "| 54 | No | Travel_Rarely     |  548 | Research &amp; Development |  8 | 4 | Life Sciences   | 3 | Female | ⋯ | 3 | 80 | 0 | 19 | 3 | 3 |  1 | 0 | 0 | 0 |\n",
       "| 59 | No | Non-Travel        | 1420 | Human Resources        |  2 | 4 | Human Resources | 3 | Female | ⋯ | 4 | 80 | 1 | 30 | 3 | 3 |  3 | 2 | 2 | 2 |\n",
       "\n"
      ],
      "text/plain": [
       "  Age Attrition BusinessTravel    DailyRate Department            \n",
       "1 22  No        Travel_Rarely      581      Research & Development\n",
       "2 38  No        Travel_Rarely     1380      Research & Development\n",
       "3 30  No        Travel_Rarely     1275      Research & Development\n",
       "4 25  No        Travel_Frequently  772      Research & Development\n",
       "5 54  No        Travel_Rarely      548      Research & Development\n",
       "6 59  No        Non-Travel        1420      Human Resources       \n",
       "  DistanceFromHome Education EducationField  EnvironmentSatisfaction Gender ⋯\n",
       "1  1               2         Life Sciences   4                       Male   ⋯\n",
       "2  9               2         Life Sciences   3                       Female ⋯\n",
       "3 28               2         Medical         4                       Female ⋯\n",
       "4  2               1         Life Sciences   4                       Male   ⋯\n",
       "5  8               4         Life Sciences   3                       Female ⋯\n",
       "6  2               4         Human Resources 3                       Female ⋯\n",
       "  RelationshipSatisfaction StandardHours StockOptionLevel TotalWorkingYears\n",
       "1 4                        80            0                 4               \n",
       "2 3                        80            0                 2               \n",
       "3 4                        80            2                11               \n",
       "4 3                        80            2                 7               \n",
       "5 3                        80            0                19               \n",
       "6 4                        80            1                30               \n",
       "  TrainingTimesLastYear WorkLifeBalance YearsAtCompany YearsInCurrentRole\n",
       "1 2                     4                3             2                 \n",
       "2 3                     3                2             2                 \n",
       "3 2                     3               10             8                 \n",
       "4 6                     3                7             7                 \n",
       "5 3                     3                1             0                 \n",
       "6 3                     3                3             2                 \n",
       "  YearsSinceLastPromotion YearsWithCurrManager\n",
       "1 1                       2                   \n",
       "2 2                       1                   \n",
       "3 1                       9                   \n",
       "4 0                       7                   \n",
       "5 0                       0                   \n",
       "6 2                       2                   "
      ]
     },
     "metadata": {},
     "output_type": "display_data"
    },
    {
     "data": {
      "text/html": [
       "1029"
      ],
      "text/latex": [
       "1029"
      ],
      "text/markdown": [
       "1029"
      ],
      "text/plain": [
       "[1] 1029"
      ]
     },
     "metadata": {},
     "output_type": "display_data"
    },
    {
     "data": {
      "text/html": [
       "<table class=\"dataframe\">\n",
       "<caption>A tibble: 6 × 32</caption>\n",
       "<thead>\n",
       "\t<tr><th scope=col>Age</th><th scope=col>Attrition</th><th scope=col>BusinessTravel</th><th scope=col>DailyRate</th><th scope=col>Department</th><th scope=col>DistanceFromHome</th><th scope=col>Education</th><th scope=col>EducationField</th><th scope=col>EnvironmentSatisfaction</th><th scope=col>Gender</th><th scope=col>⋯</th><th scope=col>RelationshipSatisfaction</th><th scope=col>StandardHours</th><th scope=col>StockOptionLevel</th><th scope=col>TotalWorkingYears</th><th scope=col>TrainingTimesLastYear</th><th scope=col>WorkLifeBalance</th><th scope=col>YearsAtCompany</th><th scope=col>YearsInCurrentRole</th><th scope=col>YearsSinceLastPromotion</th><th scope=col>YearsWithCurrManager</th></tr>\n",
       "\t<tr><th scope=col>&lt;dbl&gt;</th><th scope=col>&lt;fct&gt;</th><th scope=col>&lt;fct&gt;</th><th scope=col>&lt;dbl&gt;</th><th scope=col>&lt;fct&gt;</th><th scope=col>&lt;dbl&gt;</th><th scope=col>&lt;dbl&gt;</th><th scope=col>&lt;fct&gt;</th><th scope=col>&lt;dbl&gt;</th><th scope=col>&lt;fct&gt;</th><th scope=col>⋯</th><th scope=col>&lt;dbl&gt;</th><th scope=col>&lt;dbl&gt;</th><th scope=col>&lt;dbl&gt;</th><th scope=col>&lt;dbl&gt;</th><th scope=col>&lt;dbl&gt;</th><th scope=col>&lt;dbl&gt;</th><th scope=col>&lt;dbl&gt;</th><th scope=col>&lt;dbl&gt;</th><th scope=col>&lt;dbl&gt;</th><th scope=col>&lt;dbl&gt;</th></tr>\n",
       "</thead>\n",
       "<tbody>\n",
       "\t<tr><td>49</td><td>No </td><td>Travel_Frequently</td><td> 279</td><td>Research &amp; Development</td><td> 8</td><td>1</td><td>Life Sciences</td><td>3</td><td><span style=white-space:pre-wrap>Male  </span></td><td>⋯</td><td>4</td><td>80</td><td>1</td><td>10</td><td>3</td><td>3</td><td>10</td><td>7</td><td>1</td><td>7</td></tr>\n",
       "\t<tr><td>37</td><td>Yes</td><td><span style=white-space:pre-wrap>Travel_Rarely    </span></td><td>1373</td><td>Research &amp; Development</td><td> 2</td><td>2</td><td><span style=white-space:pre-wrap>Other        </span></td><td>4</td><td><span style=white-space:pre-wrap>Male  </span></td><td>⋯</td><td>2</td><td>80</td><td>0</td><td> 7</td><td>3</td><td>3</td><td> 0</td><td>0</td><td>0</td><td>0</td></tr>\n",
       "\t<tr><td>32</td><td>No </td><td>Travel_Frequently</td><td>1005</td><td>Research &amp; Development</td><td> 2</td><td>2</td><td>Life Sciences</td><td>4</td><td><span style=white-space:pre-wrap>Male  </span></td><td>⋯</td><td>3</td><td>80</td><td>0</td><td> 8</td><td>2</td><td>2</td><td> 7</td><td>7</td><td>3</td><td>6</td></tr>\n",
       "\t<tr><td>59</td><td>No </td><td><span style=white-space:pre-wrap>Travel_Rarely    </span></td><td>1324</td><td>Research &amp; Development</td><td> 3</td><td>3</td><td><span style=white-space:pre-wrap>Medical      </span></td><td>3</td><td>Female</td><td>⋯</td><td>1</td><td>80</td><td>3</td><td>12</td><td>3</td><td>2</td><td> 1</td><td>0</td><td>0</td><td>0</td></tr>\n",
       "\t<tr><td>30</td><td>No </td><td><span style=white-space:pre-wrap>Travel_Rarely    </span></td><td>1358</td><td>Research &amp; Development</td><td>24</td><td>1</td><td>Life Sciences</td><td>4</td><td><span style=white-space:pre-wrap>Male  </span></td><td>⋯</td><td>2</td><td>80</td><td>1</td><td> 1</td><td>2</td><td>3</td><td> 1</td><td>0</td><td>0</td><td>0</td></tr>\n",
       "\t<tr><td>53</td><td>No </td><td>Travel_Rarely    </td><td>1219</td><td>Sales                 </td><td> 2</td><td>4</td><td>Life Sciences</td><td>1</td><td>Female</td><td>⋯</td><td>3</td><td>80</td><td>0</td><td>31</td><td>3</td><td>3</td><td>25</td><td>8</td><td>3</td><td>7</td></tr>\n",
       "</tbody>\n",
       "</table>\n"
      ],
      "text/latex": [
       "A tibble: 6 × 32\n",
       "\\begin{tabular}{lllllllllllllllllllll}\n",
       " Age & Attrition & BusinessTravel & DailyRate & Department & DistanceFromHome & Education & EducationField & EnvironmentSatisfaction & Gender & ⋯ & RelationshipSatisfaction & StandardHours & StockOptionLevel & TotalWorkingYears & TrainingTimesLastYear & WorkLifeBalance & YearsAtCompany & YearsInCurrentRole & YearsSinceLastPromotion & YearsWithCurrManager\\\\\n",
       " <dbl> & <fct> & <fct> & <dbl> & <fct> & <dbl> & <dbl> & <fct> & <dbl> & <fct> & ⋯ & <dbl> & <dbl> & <dbl> & <dbl> & <dbl> & <dbl> & <dbl> & <dbl> & <dbl> & <dbl>\\\\\n",
       "\\hline\n",
       "\t 49 & No  & Travel\\_Frequently &  279 & Research \\& Development &  8 & 1 & Life Sciences & 3 & Male   & ⋯ & 4 & 80 & 1 & 10 & 3 & 3 & 10 & 7 & 1 & 7\\\\\n",
       "\t 37 & Yes & Travel\\_Rarely     & 1373 & Research \\& Development &  2 & 2 & Other         & 4 & Male   & ⋯ & 2 & 80 & 0 &  7 & 3 & 3 &  0 & 0 & 0 & 0\\\\\n",
       "\t 32 & No  & Travel\\_Frequently & 1005 & Research \\& Development &  2 & 2 & Life Sciences & 4 & Male   & ⋯ & 3 & 80 & 0 &  8 & 2 & 2 &  7 & 7 & 3 & 6\\\\\n",
       "\t 59 & No  & Travel\\_Rarely     & 1324 & Research \\& Development &  3 & 3 & Medical       & 3 & Female & ⋯ & 1 & 80 & 3 & 12 & 3 & 2 &  1 & 0 & 0 & 0\\\\\n",
       "\t 30 & No  & Travel\\_Rarely     & 1358 & Research \\& Development & 24 & 1 & Life Sciences & 4 & Male   & ⋯ & 2 & 80 & 1 &  1 & 2 & 3 &  1 & 0 & 0 & 0\\\\\n",
       "\t 53 & No  & Travel\\_Rarely     & 1219 & Sales                  &  2 & 4 & Life Sciences & 1 & Female & ⋯ & 3 & 80 & 0 & 31 & 3 & 3 & 25 & 8 & 3 & 7\\\\\n",
       "\\end{tabular}\n"
      ],
      "text/markdown": [
       "\n",
       "A tibble: 6 × 32\n",
       "\n",
       "| Age &lt;dbl&gt; | Attrition &lt;fct&gt; | BusinessTravel &lt;fct&gt; | DailyRate &lt;dbl&gt; | Department &lt;fct&gt; | DistanceFromHome &lt;dbl&gt; | Education &lt;dbl&gt; | EducationField &lt;fct&gt; | EnvironmentSatisfaction &lt;dbl&gt; | Gender &lt;fct&gt; | ⋯ ⋯ | RelationshipSatisfaction &lt;dbl&gt; | StandardHours &lt;dbl&gt; | StockOptionLevel &lt;dbl&gt; | TotalWorkingYears &lt;dbl&gt; | TrainingTimesLastYear &lt;dbl&gt; | WorkLifeBalance &lt;dbl&gt; | YearsAtCompany &lt;dbl&gt; | YearsInCurrentRole &lt;dbl&gt; | YearsSinceLastPromotion &lt;dbl&gt; | YearsWithCurrManager &lt;dbl&gt; |\n",
       "|---|---|---|---|---|---|---|---|---|---|---|---|---|---|---|---|---|---|---|---|---|\n",
       "| 49 | No  | Travel_Frequently |  279 | Research &amp; Development |  8 | 1 | Life Sciences | 3 | Male   | ⋯ | 4 | 80 | 1 | 10 | 3 | 3 | 10 | 7 | 1 | 7 |\n",
       "| 37 | Yes | Travel_Rarely     | 1373 | Research &amp; Development |  2 | 2 | Other         | 4 | Male   | ⋯ | 2 | 80 | 0 |  7 | 3 | 3 |  0 | 0 | 0 | 0 |\n",
       "| 32 | No  | Travel_Frequently | 1005 | Research &amp; Development |  2 | 2 | Life Sciences | 4 | Male   | ⋯ | 3 | 80 | 0 |  8 | 2 | 2 |  7 | 7 | 3 | 6 |\n",
       "| 59 | No  | Travel_Rarely     | 1324 | Research &amp; Development |  3 | 3 | Medical       | 3 | Female | ⋯ | 1 | 80 | 3 | 12 | 3 | 2 |  1 | 0 | 0 | 0 |\n",
       "| 30 | No  | Travel_Rarely     | 1358 | Research &amp; Development | 24 | 1 | Life Sciences | 4 | Male   | ⋯ | 2 | 80 | 1 |  1 | 2 | 3 |  1 | 0 | 0 | 0 |\n",
       "| 53 | No  | Travel_Rarely     | 1219 | Sales                  |  2 | 4 | Life Sciences | 1 | Female | ⋯ | 3 | 80 | 0 | 31 | 3 | 3 | 25 | 8 | 3 | 7 |\n",
       "\n"
      ],
      "text/plain": [
       "  Age Attrition BusinessTravel    DailyRate Department            \n",
       "1 49  No        Travel_Frequently  279      Research & Development\n",
       "2 37  Yes       Travel_Rarely     1373      Research & Development\n",
       "3 32  No        Travel_Frequently 1005      Research & Development\n",
       "4 59  No        Travel_Rarely     1324      Research & Development\n",
       "5 30  No        Travel_Rarely     1358      Research & Development\n",
       "6 53  No        Travel_Rarely     1219      Sales                 \n",
       "  DistanceFromHome Education EducationField EnvironmentSatisfaction Gender ⋯\n",
       "1  8               1         Life Sciences  3                       Male   ⋯\n",
       "2  2               2         Other          4                       Male   ⋯\n",
       "3  2               2         Life Sciences  4                       Male   ⋯\n",
       "4  3               3         Medical        3                       Female ⋯\n",
       "5 24               1         Life Sciences  4                       Male   ⋯\n",
       "6  2               4         Life Sciences  1                       Female ⋯\n",
       "  RelationshipSatisfaction StandardHours StockOptionLevel TotalWorkingYears\n",
       "1 4                        80            1                10               \n",
       "2 2                        80            0                 7               \n",
       "3 3                        80            0                 8               \n",
       "4 1                        80            3                12               \n",
       "5 2                        80            1                 1               \n",
       "6 3                        80            0                31               \n",
       "  TrainingTimesLastYear WorkLifeBalance YearsAtCompany YearsInCurrentRole\n",
       "1 3                     3               10             7                 \n",
       "2 3                     3                0             0                 \n",
       "3 2                     2                7             7                 \n",
       "4 3                     2                1             0                 \n",
       "5 2                     3                1             0                 \n",
       "6 3                     3               25             8                 \n",
       "  YearsSinceLastPromotion YearsWithCurrManager\n",
       "1 1                       7                   \n",
       "2 0                       0                   \n",
       "3 3                       6                   \n",
       "4 0                       0                   \n",
       "5 0                       0                   \n",
       "6 3                       7                   "
      ]
     },
     "metadata": {},
     "output_type": "display_data"
    },
    {
     "data": {
      "text/html": [
       "441"
      ],
      "text/latex": [
       "441"
      ],
      "text/markdown": [
       "441"
      ],
      "text/plain": [
       "[1] 441"
      ]
     },
     "metadata": {},
     "output_type": "display_data"
    }
   ],
   "source": [
    "training_hr <- hr_data |>\n",
    "slice_sample(prop=0.7,replace=FALSE)\n",
    "\n",
    "selection_set_hr<- hr_data |>\n",
    "anti_join(training_hr, by = \"EmployeeNumber\")\n",
    "\n",
    "training_hr <- training_hr|>\n",
    "select(-EmployeeNumber)\n",
    "\n",
    "selection_set_hr <- selection_set_hr|>\n",
    "select(-EmployeeNumber)\n",
    "\n",
    "head(training_hr)\n",
    "nrow(training_hr)\n",
    "\n",
    "head(selection_set_hr)\n",
    "nrow(selection_set_hr)"
   ]
  },
  {
   "cell_type": "code",
   "execution_count": 46,
   "id": "e41e9293-aa55-4c39-b63f-d5978b7887a7",
   "metadata": {},
   "outputs": [
    {
     "name": "stderr",
     "output_type": "stream",
     "text": [
      "Warning message in leaps.setup(x, y, wt = wt, nbest = nbest, nvmax = nvmax, force.in = force.in, :\n",
      "“1  linear dependencies found”\n"
     ]
    },
    {
     "name": "stdout",
     "output_type": "stream",
     "text": [
      "Reordering variables and trying again:\n"
     ]
    },
    {
     "name": "stderr",
     "output_type": "stream",
     "text": [
      "Warning message in rval$lopt[] <- rval$vorder[rval$lopt]:\n",
      "“number of items to replace is not a multiple of replacement length”\n"
     ]
    },
    {
     "data": {
      "text/plain": [
       "Subset selection object\n",
       "Call: regsubsets.formula(x = Attrition ~ ., nvmax = 70, data = selection_set_hr, \n",
       "    method = \"backward\", )\n",
       "45 Variables  (and intercept)\n",
       "                                 Forced in Forced out\n",
       "Age                                  FALSE      FALSE\n",
       "BusinessTravelTravel_Frequently      FALSE      FALSE\n",
       "BusinessTravelNon-Travel             FALSE      FALSE\n",
       "DailyRate                            FALSE      FALSE\n",
       "DepartmentResearch & Development     FALSE      FALSE\n",
       "DepartmentHuman Resources            FALSE      FALSE\n",
       "DistanceFromHome                     FALSE      FALSE\n",
       "Education                            FALSE      FALSE\n",
       "EducationFieldOther                  FALSE      FALSE\n",
       "EducationFieldMedical                FALSE      FALSE\n",
       "EducationFieldMarketing              FALSE      FALSE\n",
       "EducationFieldTechnical Degree       FALSE      FALSE\n",
       "EducationFieldHuman Resources        FALSE      FALSE\n",
       "EnvironmentSatisfaction              FALSE      FALSE\n",
       "GenderMale                           FALSE      FALSE\n",
       "HourlyRate                           FALSE      FALSE\n",
       "JobInvolvement                       FALSE      FALSE\n",
       "JobLevel                             FALSE      FALSE\n",
       "JobRoleResearch Scientist            FALSE      FALSE\n",
       "JobRoleLaboratory Technician         FALSE      FALSE\n",
       "JobRoleManufacturing Director        FALSE      FALSE\n",
       "JobRoleHealthcare Representative     FALSE      FALSE\n",
       "JobRoleManager                       FALSE      FALSE\n",
       "JobRoleSales Representative          FALSE      FALSE\n",
       "JobRoleResearch Director             FALSE      FALSE\n",
       "JobRoleHuman Resources               FALSE      FALSE\n",
       "JobSatisfaction                      FALSE      FALSE\n",
       "MaritalStatusMarried                 FALSE      FALSE\n",
       "MaritalStatusDivorced                FALSE      FALSE\n",
       "MonthlyIncome                        FALSE      FALSE\n",
       "MonthlyRate                          FALSE      FALSE\n",
       "NumCompaniesWorked                   FALSE      FALSE\n",
       "OverTimeNo                           FALSE      FALSE\n",
       "PercentSalaryHike                    FALSE      FALSE\n",
       "PerformanceRating                    FALSE      FALSE\n",
       "RelationshipSatisfaction             FALSE      FALSE\n",
       "StockOptionLevel                     FALSE      FALSE\n",
       "TotalWorkingYears                    FALSE      FALSE\n",
       "TrainingTimesLastYear                FALSE      FALSE\n",
       "WorkLifeBalance                      FALSE      FALSE\n",
       "YearsAtCompany                       FALSE      FALSE\n",
       "YearsInCurrentRole                   FALSE      FALSE\n",
       "YearsSinceLastPromotion              FALSE      FALSE\n",
       "YearsWithCurrManager                 FALSE      FALSE\n",
       "StandardHours                        FALSE      FALSE\n",
       "1 subsets of each size up to 44\n",
       "Selection Algorithm: backward"
      ]
     },
     "metadata": {},
     "output_type": "display_data"
    },
    {
     "ename": "ERROR",
     "evalue": "\u001b[1m\u001b[33mError\u001b[39m in `tibble()`:\u001b[22m\n\u001b[1m\u001b[22m\u001b[33m!\u001b[39m Tibble columns must have compatible sizes.\n\u001b[36m•\u001b[39m Size 45: Existing data.\n\u001b[36m•\u001b[39m Size 44: Column `RSQ`.\n\u001b[36mℹ\u001b[39m Only values of size one are recycled.\n",
     "output_type": "error",
     "traceback": [
      "\u001b[1m\u001b[33mError\u001b[39m in `tibble()`:\u001b[22m\n\u001b[1m\u001b[22m\u001b[33m!\u001b[39m Tibble columns must have compatible sizes.\n\u001b[36m•\u001b[39m Size 45: Existing data.\n\u001b[36m•\u001b[39m Size 44: Column `RSQ`.\n\u001b[36mℹ\u001b[39m Only values of size one are recycled.\nTraceback:\n",
      "1. tibble(n_input_variables = 1:45, RSQ = hr_backward_summary$rsq, \n .     RSS = hr_backward_summary$rss, ADJ.R2 = hr_backward_summary$adjr2)",
      "2. tibble_quos(xs, .rows, .name_repair)",
      "3. vectbl_recycle_rows(res, first_size, j, given_col_names[[j]], \n .     call)",
      "4. abort_incompatible_size(n, name, size, \"Existing data\", call)",
      "5. tibble_abort(call = call, bullets(\"Tibble columns must have compatible sizes:\", \n .     if (!is.null(.rows)) paste0(\"Size \", .rows, \": \", rows_source), \n .     problems, info = \"Only values of size one are recycled.\"))",
      "6. abort(x, class, ..., call = call, parent = parent, use_cli_format = TRUE)",
      "7. signal_abort(cnd, .file)"
     ]
    }
   ],
   "source": [
    "hr_backward_sel <- regsubsets(\n",
    "    x=Attrition~.,\n",
    "    nvmax=70,\n",
    "    data=selection_set_hr,\n",
    "    method=\"backward\",)\n",
    "hr_backward_sel\n",
    "hr_backward_summary <- summary(hr_backward_sel) \n",
    "\n",
    "hr_backward_summary_df <- \n",
    "     tibble(\n",
    "         n_input_variables = 1:45,\n",
    "         RSQ = hr_backward_summary$rsq,\n",
    "         RSS = hr_backward_summary$rss,\n",
    "         ADJ.R2 = hr_backward_summary$adjr2\n",
    "     )\n",
    "hr_backward_summary_df\n",
    "hr_backward_summary\n"
   ]
  },
  {
   "cell_type": "markdown",
   "id": "91360029-e9c6-4755-98c8-db852850ebce",
   "metadata": {},
   "source": [
    "The variables within the backward selected model are\n",
    "\n",
    "-"
   ]
  }
 ],
 "metadata": {
  "kernelspec": {
   "display_name": "R",
   "language": "R",
   "name": "ir"
  },
  "language_info": {
   "codemirror_mode": "r",
   "file_extension": ".r",
   "mimetype": "text/x-r-source",
   "name": "R",
   "pygments_lexer": "r",
   "version": "4.3.3"
  }
 },
 "nbformat": 4,
 "nbformat_minor": 5
}
