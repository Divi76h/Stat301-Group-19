{
 "cells": [
  {
   "cell_type": "code",
   "execution_count": 1,
   "id": "5a35e6e2-c9e3-4a3d-8fb5-bf2a353d3236",
   "metadata": {},
   "outputs": [
    {
     "name": "stderr",
     "output_type": "stream",
     "text": [
      "Updating HTML index of packages in '.Library'\n",
      "\n",
      "Making 'packages.html' ...\n",
      " done\n",
      "\n",
      "Updating HTML index of packages in '.Library'\n",
      "\n",
      "Making 'packages.html' ...\n",
      " done\n",
      "\n",
      "Updating HTML index of packages in '.Library'\n",
      "\n",
      "Making 'packages.html' ...\n",
      " done\n",
      "\n",
      "Updating HTML index of packages in '.Library'\n",
      "\n",
      "Making 'packages.html' ...\n",
      " done\n",
      "\n",
      "Updating HTML index of packages in '.Library'\n",
      "\n",
      "Making 'packages.html' ...\n",
      " done\n",
      "\n",
      "Updating HTML index of packages in '.Library'\n",
      "\n",
      "Making 'packages.html' ...\n",
      " done\n",
      "\n",
      "Updating HTML index of packages in '.Library'\n",
      "\n",
      "Making 'packages.html' ...\n",
      " done\n",
      "\n",
      "Updating HTML index of packages in '.Library'\n",
      "\n",
      "Making 'packages.html' ...\n",
      " done\n",
      "\n",
      "Updating HTML index of packages in '.Library'\n",
      "\n",
      "Making 'packages.html' ...\n",
      " done\n",
      "\n"
     ]
    }
   ],
   "source": [
    "install.packages(\"repr\")\n",
    "install.packages(\"digest\")\n",
    "install.packages(\"infer\")\n",
    "install.packages(\"gridExtra\")\n",
    "install.packages(\"faraway\")\n",
    "install.packages(\"broom\")\n",
    "install.packages(\"leaps\")\n",
    "install.packages(\"mltools\")\n",
    "install.packages(\"tidyverse\")"
   ]
  },
  {
   "cell_type": "code",
   "execution_count": 2,
   "id": "eae98196-9c24-4e17-bfd4-8eeb038812c9",
   "metadata": {},
   "outputs": [
    {
     "ename": "ERROR",
     "evalue": "Error in value[[3L]](cond): Package ‘digest’ version 0.6.36 cannot be unloaded:\n Error in unloadNamespace(package) : namespace ‘digest’ is imported by ‘IRkernel’, ‘htmltools’ so cannot be unloaded\n\n",
     "output_type": "error",
     "traceback": [
      "Error in value[[3L]](cond): Package ‘digest’ version 0.6.36 cannot be unloaded:\n Error in unloadNamespace(package) : namespace ‘digest’ is imported by ‘IRkernel’, ‘htmltools’ so cannot be unloaded\n\nTraceback:\n",
      "1. library(digest)",
      "2. tryCatch(unloadNamespace(package), error = function(e) {\n .     P <- if (!is.null(cc <- conditionCall(e))) \n .         paste(\"Error in\", deparse(cc)[1L], \": \")\n .     else \"Error : \"\n .     stop(gettextf(\"Package %s version %s cannot be unloaded:\\n %s\", \n .         sQuote(package), oldversion, paste0(P, conditionMessage(e), \n .             \"\\n\")), domain = NA)\n . })",
      "3. tryCatchList(expr, classes, parentenv, handlers)",
      "4. tryCatchOne(expr, names, parentenv, handlers[[1L]])",
      "5. value[[3L]](cond)",
      "6. stop(gettextf(\"Package %s version %s cannot be unloaded:\\n %s\", \n .     sQuote(package), oldversion, paste0(P, conditionMessage(e), \n .         \"\\n\")), domain = NA)"
     ]
    }
   ],
   "source": [
    "library(repr)\n",
    "library(digest)\n",
    "library(infer)\n",
    "library(gridExtra)\n",
    "library(faraway)\n",
    "library(broom)\n",
    "library(leaps)\n",
    "library(mltools)\n",
    "library(tidyverse)"
   ]
  },
  {
   "cell_type": "code",
   "execution_count": null,
   "id": "1847aafa-edf4-42e0-82db-0ca77246535c",
   "metadata": {},
   "outputs": [],
   "source": [
    "hr_data <-read_csv(\"https://raw.githubusercontent.com/Divi76h/Stat301-Group-19/refs/heads/main/data/HR-Employee-Attrition.csv\")|>\n",
    "mutate(Attrition = as_factor(Attrition))|>\n",
    "mutate(BusinessTravel = as_factor(BusinessTravel))|>\n",
    "mutate(Department = as_factor(Department))|>\n",
    "mutate(EducationField = as_factor(EducationField))|>\n",
    "mutate(Gender = as_factor(Gender))|>\n",
    "mutate(JobRole = as_factor(JobRole))|>\n",
    "mutate(MaritalStatus = as_factor(MaritalStatus))|>\n",
    "select(-Over18,-EmployeeCount)|>\n",
    "mutate(OverTime = as_factor(OverTime))\n",
    "\n",
    "\n",
    "head(hr_data,6)"
   ]
  },
  {
   "cell_type": "code",
   "execution_count": null,
   "id": "1ea5caf7-d16d-493d-9d99-e14cab31d4cc",
   "metadata": {},
   "outputs": [],
   "source": [
    "training_hr <- hr_data |>\n",
    "slice_sample(prop=0.7,replace=FALSE)\n",
    "\n",
    "selection_set_hr<- hr_data |>\n",
    "anti_join(training_hr, by = \"EmployeeNumber\")\n",
    "\n",
    "training_hr <- training_hr|>\n",
    "select(-EmployeeNumber)\n",
    "\n",
    "selection_set_hr <- selection_set_hr|>\n",
    "select(-EmployeeNumber)\n",
    "\n",
    "head(training_hr)\n",
    "nrow(training_hr)\n",
    "\n",
    "head(selection_set_hr)\n",
    "nrow(selection_set_hr)"
   ]
  },
  {
   "cell_type": "code",
   "execution_count": null,
   "id": "e41e9293-aa55-4c39-b63f-d5978b7887a7",
   "metadata": {},
   "outputs": [],
   "source": [
    "hr_backward_sel <- regsubsets(\n",
    "    x=Attrition~.,\n",
    "    nvmax=70,\n",
    "    data=selection_set_hr,\n",
    "    method=\"backward\",)\n",
    "hr_backward_sel\n",
    "hr_backward_summary <- summary(hr_backward_sel) \n",
    "\n",
    "hr_backward_summary_df <- \n",
    "     tibble(\n",
    "         n_input_variables = 1:45,\n",
    "         RSQ = hr_backward_summary$rsq,\n",
    "         RSS = hr_backward_summary$rss,\n",
    "         ADJ.R2 = hr_backward_summary$adjr2\n",
    "     )\n",
    "hr_backward_summary_df\n",
    "hr_backward_summary\n"
   ]
  },
  {
   "cell_type": "markdown",
   "id": "91360029-e9c6-4755-98c8-db852850ebce",
   "metadata": {},
   "source": [
    "The variables within the backward selected model are\n",
    "\n",
    "-"
   ]
  }
 ],
 "metadata": {
  "kernelspec": {
   "display_name": "R",
   "language": "R",
   "name": "ir"
  },
  "language_info": {
   "codemirror_mode": "r",
   "file_extension": ".r",
   "mimetype": "text/x-r-source",
   "name": "R",
   "pygments_lexer": "r",
   "version": "4.3.3"
  }
 },
 "nbformat": 4,
 "nbformat_minor": 5
}
