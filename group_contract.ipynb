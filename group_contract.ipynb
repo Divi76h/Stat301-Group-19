{
 "cells": [
  {
   "cell_type": "markdown",
   "id": "4ade6771-d9ba-4b35-afad-d064c3286003",
   "metadata": {},
   "source": [
    "Group Contract\n",
    "\n",
    "**Goals**\\\n",
    "What are our team goals for this project?\n",
    "* Apply techniques learnt in the course to model responses for a new dataset.\n",
    "* Improve interpersonal skills in a group setting  \n",
    "* Effectively analyze our model’s efficacy. \n",
    "\n",
    "What do we want to accomplish?\n",
    "* Develop a clear, data-driven answer to our chosen research question.\n",
    "* Gain practical experience in working with real-world datasets and applying various data analysis techniques.\n",
    "* Communicate our findings effectively through visualizations and reports.\n",
    "\n",
    "What skills do we want to develop or refine?\n",
    "* Collaborative work in data science projects using tools like Git, Jupyter\n",
    "* Cleaning up a large dataset to something more relevant to what we want to solve\n",
    "* Understanding relationships between variables; how they affect the response and each other\n",
    "* Analytical thinking and hypothesis testing\n",
    "\n",
    "Expectations:\n",
    "Detailed in Policies and Procedures.\n",
    "\n",
    "What do we expect of one another regarding attendance at meetings, participation, frequency of communication, quality of work, etc.?\n",
    "* Meetings as required according to project needs.\n",
    "* Reply to the messages in the group chat.\n",
    "* Members should join all meetings, whether in-person or virtually. \n",
    "* Actively participate in meetings.\n",
    "\n",
    "**Policies & Procedures**\\\n",
    "What rules and procedures can we agree on to help us meet our goals and expectations and deal with members who do not fulfill their part in the contract?\n",
    "* Members should complete their portion of the work\n",
    "* Work will be distributed as evenly as possible\n",
    "* Attend meetings or communicate with other members if you can’t attend\n",
    "* Respect each other and communicate when necessary\n",
    "\n",
    "**Consequences**\\\n",
    "How will we address non-performance regarding these goals, expectations, policies and procedures?\n",
    "* Communicate with each other as to why there is a problem and try our best to resolve the issue\n",
    "* Ensure that sure everyone is aware of the expectations\n",
    "* If absolutely necessary, talk about issues with the TA\n",
    "\n",
    "**Data**\\\n",
    "Many data analyses start with a question or questions we are interested in. Then we find or collect data to answer the question(s). Decide with your team members a question you are interested in and how to answer using the data set.  Include a brief description of the dataset (2 or 3 sentences) and a link or reference on how to access the dataset. Note that in the next individual assignment you will be asked to fully describe the dataset. \n",
    "\n",
    "The dataset HR-Employee-Dataset describes the characteristics of 1470 employees. These characteristics include age, attrition, how often they travel for work, commute time, monthly income, and more. For this project, we would like to explore how various variables affect employee attrition. We can answer this by creating models using logistic regression for multiple variables.\n",
    "\n",
    "Dataset: https://www.kaggle.com/datasets/rishikeshkonapure/hr-analytics-prediction/\n",
    "\n",
    "**Signatures**\\\n",
    "Dhawal Rathore\\\n",
    "Divij Kapoor\\\n",
    "Yuko Yajima\\\n",
    "Jack Thompson\n"
   ]
  },
  {
   "cell_type": "code",
   "execution_count": null,
   "id": "fc5a7c20-1c76-4623-b520-f8afbadaa357",
   "metadata": {},
   "outputs": [],
   "source": []
  }
 ],
 "metadata": {
  "kernelspec": {
   "display_name": "R",
   "language": "R",
   "name": "ir"
  },
  "language_info": {
   "codemirror_mode": "r",
   "file_extension": ".r",
   "mimetype": "text/x-r-source",
   "name": "R",
   "pygments_lexer": "r",
   "version": "4.3.3"
  }
 },
 "nbformat": 4,
 "nbformat_minor": 5
}
